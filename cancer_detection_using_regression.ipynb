{
  "nbformat": 4,
  "nbformat_minor": 0,
  "metadata": {
    "colab": {
      "provenance": [],
      "authorship_tag": "ABX9TyNjd6Xsoo/iiRb4S88j/PAB"
    },
    "kernelspec": {
      "name": "python3",
      "display_name": "Python 3"
    },
    "language_info": {
      "name": "python"
    }
  },
  "cells": [
    {
      "cell_type": "code",
      "execution_count": null,
      "metadata": {
        "id": "QboOQ3oUuB74"
      },
      "outputs": [],
      "source": [
        "import numpy as np\n",
        "import pandas as pd\n",
        "import matplotlib.pyplot as plt\n",
        "from sklearn.model_selection import train_test_split"
      ]
    },
    {
      "cell_type": "code",
      "source": [
        "data = pd.read_csv('data.csv')\n",
        "print(data.head)"
      ],
      "metadata": {
        "colab": {
          "base_uri": "https://localhost:8080/"
        },
        "collapsed": true,
        "id": "uKN-F43NumUo",
        "outputId": "996c2ef6-2d76-46fb-e7d8-f6eb20a18636"
      },
      "execution_count": null,
      "outputs": [
        {
          "output_type": "stream",
          "name": "stdout",
          "text": [
            "<bound method NDFrame.head of            id diagnosis  radius_mean  texture_mean  perimeter_mean  area_mean  \\\n",
            "0      842302         M        17.99         10.38          122.80     1001.0   \n",
            "1      842517         M        20.57         17.77          132.90     1326.0   \n",
            "2    84300903         M        19.69         21.25          130.00     1203.0   \n",
            "3    84348301         M        11.42         20.38           77.58      386.1   \n",
            "4    84358402         M        20.29         14.34          135.10     1297.0   \n",
            "..        ...       ...          ...           ...             ...        ...   \n",
            "564    926424         M        21.56         22.39          142.00     1479.0   \n",
            "565    926682         M        20.13         28.25          131.20     1261.0   \n",
            "566    926954         M        16.60         28.08          108.30      858.1   \n",
            "567    927241         M        20.60         29.33          140.10     1265.0   \n",
            "568     92751         B         7.76         24.54           47.92      181.0   \n",
            "\n",
            "     smoothness_mean  compactness_mean  concavity_mean  concave points_mean  \\\n",
            "0            0.11840           0.27760         0.30010              0.14710   \n",
            "1            0.08474           0.07864         0.08690              0.07017   \n",
            "2            0.10960           0.15990         0.19740              0.12790   \n",
            "3            0.14250           0.28390         0.24140              0.10520   \n",
            "4            0.10030           0.13280         0.19800              0.10430   \n",
            "..               ...               ...             ...                  ...   \n",
            "564          0.11100           0.11590         0.24390              0.13890   \n",
            "565          0.09780           0.10340         0.14400              0.09791   \n",
            "566          0.08455           0.10230         0.09251              0.05302   \n",
            "567          0.11780           0.27700         0.35140              0.15200   \n",
            "568          0.05263           0.04362         0.00000              0.00000   \n",
            "\n",
            "     ...  texture_worst  perimeter_worst  area_worst  smoothness_worst  \\\n",
            "0    ...          17.33           184.60      2019.0           0.16220   \n",
            "1    ...          23.41           158.80      1956.0           0.12380   \n",
            "2    ...          25.53           152.50      1709.0           0.14440   \n",
            "3    ...          26.50            98.87       567.7           0.20980   \n",
            "4    ...          16.67           152.20      1575.0           0.13740   \n",
            "..   ...            ...              ...         ...               ...   \n",
            "564  ...          26.40           166.10      2027.0           0.14100   \n",
            "565  ...          38.25           155.00      1731.0           0.11660   \n",
            "566  ...          34.12           126.70      1124.0           0.11390   \n",
            "567  ...          39.42           184.60      1821.0           0.16500   \n",
            "568  ...          30.37            59.16       268.6           0.08996   \n",
            "\n",
            "     compactness_worst  concavity_worst  concave points_worst  symmetry_worst  \\\n",
            "0              0.66560           0.7119                0.2654          0.4601   \n",
            "1              0.18660           0.2416                0.1860          0.2750   \n",
            "2              0.42450           0.4504                0.2430          0.3613   \n",
            "3              0.86630           0.6869                0.2575          0.6638   \n",
            "4              0.20500           0.4000                0.1625          0.2364   \n",
            "..                 ...              ...                   ...             ...   \n",
            "564            0.21130           0.4107                0.2216          0.2060   \n",
            "565            0.19220           0.3215                0.1628          0.2572   \n",
            "566            0.30940           0.3403                0.1418          0.2218   \n",
            "567            0.86810           0.9387                0.2650          0.4087   \n",
            "568            0.06444           0.0000                0.0000          0.2871   \n",
            "\n",
            "     fractal_dimension_worst  Unnamed: 32  \n",
            "0                    0.11890          NaN  \n",
            "1                    0.08902          NaN  \n",
            "2                    0.08758          NaN  \n",
            "3                    0.17300          NaN  \n",
            "4                    0.07678          NaN  \n",
            "..                       ...          ...  \n",
            "564                  0.07115          NaN  \n",
            "565                  0.06637          NaN  \n",
            "566                  0.07820          NaN  \n",
            "567                  0.12400          NaN  \n",
            "568                  0.07039          NaN  \n",
            "\n",
            "[569 rows x 33 columns]>\n"
          ]
        }
      ]
    },
    {
      "cell_type": "code",
      "source": [
        "data.info()"
      ],
      "metadata": {
        "collapsed": true,
        "colab": {
          "base_uri": "https://localhost:8080/"
        },
        "id": "bK_ETGC_vICx",
        "outputId": "9864c595-8a89-434c-b959-666b1c6f7d99"
      },
      "execution_count": null,
      "outputs": [
        {
          "output_type": "stream",
          "name": "stdout",
          "text": [
            "<class 'pandas.core.frame.DataFrame'>\n",
            "RangeIndex: 569 entries, 0 to 568\n",
            "Data columns (total 33 columns):\n",
            " #   Column                   Non-Null Count  Dtype  \n",
            "---  ------                   --------------  -----  \n",
            " 0   id                       569 non-null    int64  \n",
            " 1   diagnosis                569 non-null    object \n",
            " 2   radius_mean              569 non-null    float64\n",
            " 3   texture_mean             569 non-null    float64\n",
            " 4   perimeter_mean           569 non-null    float64\n",
            " 5   area_mean                569 non-null    float64\n",
            " 6   smoothness_mean          569 non-null    float64\n",
            " 7   compactness_mean         569 non-null    float64\n",
            " 8   concavity_mean           569 non-null    float64\n",
            " 9   concave points_mean      569 non-null    float64\n",
            " 10  symmetry_mean            569 non-null    float64\n",
            " 11  fractal_dimension_mean   569 non-null    float64\n",
            " 12  radius_se                569 non-null    float64\n",
            " 13  texture_se               569 non-null    float64\n",
            " 14  perimeter_se             569 non-null    float64\n",
            " 15  area_se                  569 non-null    float64\n",
            " 16  smoothness_se            569 non-null    float64\n",
            " 17  compactness_se           569 non-null    float64\n",
            " 18  concavity_se             569 non-null    float64\n",
            " 19  concave points_se        569 non-null    float64\n",
            " 20  symmetry_se              569 non-null    float64\n",
            " 21  fractal_dimension_se     569 non-null    float64\n",
            " 22  radius_worst             569 non-null    float64\n",
            " 23  texture_worst            569 non-null    float64\n",
            " 24  perimeter_worst          569 non-null    float64\n",
            " 25  area_worst               569 non-null    float64\n",
            " 26  smoothness_worst         569 non-null    float64\n",
            " 27  compactness_worst        569 non-null    float64\n",
            " 28  concavity_worst          569 non-null    float64\n",
            " 29  concave points_worst     569 non-null    float64\n",
            " 30  symmetry_worst           569 non-null    float64\n",
            " 31  fractal_dimension_worst  569 non-null    float64\n",
            " 32  Unnamed: 32              0 non-null      float64\n",
            "dtypes: float64(31), int64(1), object(1)\n",
            "memory usage: 146.8+ KB\n"
          ]
        }
      ]
    },
    {
      "cell_type": "code",
      "source": [
        "data.drop(['Unnamed: 32', 'id'], axis = 1, inplace = True)\n",
        "data['daignosis'] = data['diagnosis'].map({'M': 1, 'B': 0})"
      ],
      "metadata": {
        "id": "tcY2WRbzvPTA"
      },
      "execution_count": null,
      "outputs": []
    },
    {
      "cell_type": "code",
      "source": [
        "y = data['daignosis'].values\n",
        "x_data = data.drop(['diagnosis'], axis = 1)"
      ],
      "metadata": {
        "id": "Ev22bw9Zvt-R"
      },
      "execution_count": null,
      "outputs": []
    },
    {
      "cell_type": "code",
      "source": [
        "x = (x_data - x_data.min()) / (x_data.max() - x_data.min()) # normalizing the input data\n",
        "# print(x)"
      ],
      "metadata": {
        "collapsed": true,
        "id": "nPvGC6z8v564"
      },
      "execution_count": null,
      "outputs": []
    },
    {
      "cell_type": "code",
      "source": [
        "from re import X\n",
        "x_train, x_test, y_train, y_test = train_test_split(x, y, test_size = 0.15, random_state = 42)\n",
        "\n",
        "x_train = x_train.T\n",
        "y_train = y_train.T\n",
        "x_test = x_test.T\n",
        "y_test = y_test.T\n",
        "\n",
        "print(\"x train: \", x_train.shape)\n",
        "print(\"x test: \", x_test.shape)\n",
        "print(\"y train: \", y_train.shape)\n",
        "print(\"y test: \", y_test.shape)"
      ],
      "metadata": {
        "colab": {
          "base_uri": "https://localhost:8080/"
        },
        "id": "n932d2VWwT-o",
        "outputId": "c787fd6f-aadb-47c2-e613-ff2f3c5f4cee"
      },
      "execution_count": null,
      "outputs": [
        {
          "output_type": "stream",
          "name": "stdout",
          "text": [
            "x train:  (31, 483)\n",
            "x test:  (31, 86)\n",
            "y train:  (483,)\n",
            "y test:  (86,)\n"
          ]
        }
      ]
    },
    {
      "cell_type": "code",
      "source": [
        "def initialize_weights_and_bias(dimension):\n",
        "  w = np.random.randn(dimension, 1)*0.01\n",
        "  b = 0.0\n",
        "  return w, b"
      ],
      "metadata": {
        "id": "KocIQiKJxIEP"
      },
      "execution_count": null,
      "outputs": []
    },
    {
      "cell_type": "code",
      "source": [
        "def sigmoid(z):\n",
        "  return 1/(1 + np.exp(-z))"
      ],
      "metadata": {
        "id": "F-rBj4Wxxd6A"
      },
      "execution_count": null,
      "outputs": []
    },
    {
      "cell_type": "code",
      "source": [
        "def forward_backward_propagation(w, b, x_train, y_train):\n",
        "  m = x_train.shape[1]\n",
        "  z = np.dot(w.T, x_train) + b\n",
        "  y_head = sigmoid(z)\n",
        "\n",
        "  # Add epsilon to prevent log(0) or log(1)\n",
        "  epsilon = 1e-8\n",
        "  cost = -(1/m)* np.sum(y_train * np.log(y_head + epsilon) + (1-y_train) * np.log(1-y_head + epsilon))\n",
        "\n",
        "  derivative_weight = (1/m) * np.dot(x_train, (y_head - y_train).T)\n",
        "  derivative_bias = (1/m) * np.sum(y_head - y_train)\n",
        "\n",
        "  gradients = {\"derivative_weight\" : derivative_weight, \"derivative_bias\": derivative_bias}\n",
        "  return cost, gradients"
      ],
      "metadata": {
        "id": "gcCXQceFxnpY"
      },
      "execution_count": null,
      "outputs": []
    },
    {
      "cell_type": "code",
      "source": [
        "def update(w, b, x_train, y_train, learning_rate, num_iterations):\n",
        "  costs = []\n",
        "  train_accuracies = []\n",
        "  gradients = []\n",
        "\n",
        "  for i in range(num_iterations):\n",
        "    cost, grad = forward_backward_propagation(w, b, x_train, y_train)\n",
        "    w -= learning_rate* grad[\"derivative_weight\"]\n",
        "    b -= learning_rate * grad[\"derivative_bias\"]\n",
        "\n",
        "    if i % 100 == 0:\n",
        "      costs.append(cost)\n",
        "      y_prediction_train = predict(w, b, x_train)\n",
        "      train_accuracy = 100 - np.mean(np.abs(y_prediction_train - y_train))*100\n",
        "      train_accuracies.append(train_accuracy)\n",
        "      print(f\"cost after iteration {i}: {cost}\")\n",
        "      print(f\"Train accuracy after iteration {i}: {train_accuracy}%\")\n",
        "\n",
        "  parameters = {\"weight\": w, \"bias\": b}\n",
        "  return parameters, gradients, costs, train_accuracies"
      ],
      "metadata": {
        "id": "pdT6IRB4yxnv"
      },
      "execution_count": null,
      "outputs": []
    },
    {
      "cell_type": "code",
      "source": [
        "def predict(w, b, x_test):\n",
        "  m = x_test.shape[1]\n",
        "  y_prediction = np.zeros((1, m))\n",
        "  z = sigmoid(np.dot(w.T, x_test) + b)\n",
        "\n",
        "  for i in range(z.shape[1]):\n",
        "    y_prediction[0, i] = 1 if z[0, i] > 0.5 else 0\n",
        "\n",
        "  return y_prediction"
      ],
      "metadata": {
        "id": "5NHCVSo1z7q5"
      },
      "execution_count": null,
      "outputs": []
    },
    {
      "cell_type": "code",
      "metadata": {
        "colab": {
          "base_uri": "https://localhost:8080/"
        },
        "id": "1f5b8c9a",
        "outputId": "ca5a49f1-3a1c-450b-8fba-92bfdc620a4e"
      },
      "source": [
        "def logistic_regression(x_train, y_train, x_test, y_test, learning_rate = 0.01, num_iterations = 1000):\n",
        "  dimension = x_train.shape[0]\n",
        "  w, b = initialize_weights_and_bias(dimension)\n",
        "\n",
        "  parameters, gradients, costs, train_accuracies = update(w, b, x_train, y_train, learning_rate, num_iterations)\n",
        "\n",
        "  y_prediction_test = predict(parameters[\"weight\"], parameters[\"bias\"], x_test)\n",
        "  y_prediction_train = predict(parameters[\"weight\"], parameters[\"bias\"], x_train)\n",
        "\n",
        "  print(f\"Train accuracy: {100 - np.mean(np.abs(y_prediction_train - y_train))*100}%\")\n",
        "  print(f\"Test accuracy: {100 - np.mean(np.abs(y_prediction_test - y_test))*100}%\")\n",
        "\n",
        "  return costs, train_accuracies\n",
        "\n",
        "costs, train_accuracies = logistic_regression(x_train, y_train, x_test, y_test, learning_rate = 0.01, num_iterations = 10000)"
      ],
      "execution_count": null,
      "outputs": [
        {
          "output_type": "stream",
          "name": "stderr",
          "text": [
            "/tmp/ipython-input-16-3980557118.py:2: RuntimeWarning: overflow encountered in exp\n",
            "  return 1/(1 + np.exp(-z))\n"
          ]
        },
        {
          "output_type": "stream",
          "name": "stdout",
          "text": [
            "cost after iteration 0: 1.0815279738251369\n",
            "Train accuracy after iteration 0: 62.732919254658384%\n",
            "cost after iteration 100: 5.377900679743802\n",
            "Train accuracy after iteration 100: 37.267080745341616%\n",
            "cost after iteration 200: 1.7792479484867632\n",
            "Train accuracy after iteration 200: 84.26501035196688%\n",
            "cost after iteration 300: 1.9803453869235286\n",
            "Train accuracy after iteration 300: 81.15942028985506%\n",
            "cost after iteration 400: 1.593569090378368\n",
            "Train accuracy after iteration 400: 89.02691511387164%\n",
            "cost after iteration 500: 1.6012567241528055\n",
            "Train accuracy after iteration 500: 89.44099378881988%\n",
            "cost after iteration 600: 1.501136956547471\n",
            "Train accuracy after iteration 600: 88.81987577639751%\n",
            "cost after iteration 700: 1.5570536035923401\n",
            "Train accuracy after iteration 700: 87.99171842650104%\n",
            "cost after iteration 800: 4.652844289375904\n",
            "Train accuracy after iteration 800: 55.27950310559006%\n",
            "cost after iteration 900: 1.529573531726393\n",
            "Train accuracy after iteration 900: 88.40579710144928%\n",
            "cost after iteration 1000: 1.542709489208949\n",
            "Train accuracy after iteration 1000: 88.19875776397515%\n",
            "cost after iteration 1100: 1.510657406809945\n",
            "Train accuracy after iteration 1100: 88.81987577639751%\n",
            "cost after iteration 1200: 1.449246094867817\n",
            "Train accuracy after iteration 1200: 88.81987577639751%\n",
            "cost after iteration 1300: 5.109828708029601\n",
            "Train accuracy after iteration 1300: 45.75569358178054%\n"
          ]
        },
        {
          "output_type": "stream",
          "name": "stderr",
          "text": [
            "/tmp/ipython-input-16-3980557118.py:2: RuntimeWarning: overflow encountered in exp\n",
            "  return 1/(1 + np.exp(-z))\n"
          ]
        },
        {
          "output_type": "stream",
          "name": "stdout",
          "text": [
            "cost after iteration 1400: 1.5092546978711325\n",
            "Train accuracy after iteration 1400: 89.648033126294%\n",
            "cost after iteration 1500: 1.5022246586984709\n",
            "Train accuracy after iteration 1500: 89.23395445134575%\n",
            "cost after iteration 1600: 1.4914799882541108\n",
            "Train accuracy after iteration 1600: 89.44099378881988%\n",
            "cost after iteration 1700: 1.560460503989458\n",
            "Train accuracy after iteration 1700: 89.85507246376811%\n",
            "cost after iteration 1800: 1.4493602643029788\n",
            "Train accuracy after iteration 1800: 89.02691511387164%\n",
            "cost after iteration 1900: 1.449246097736264\n",
            "Train accuracy after iteration 1900: 89.85507246376811%\n",
            "cost after iteration 2000: 1.5251099543785698\n",
            "Train accuracy after iteration 2000: 90.06211180124224%\n",
            "cost after iteration 2100: 1.498327157728933\n",
            "Train accuracy after iteration 2100: 90.26915113871635%\n",
            "cost after iteration 2200: 1.542973989288854\n",
            "Train accuracy after iteration 2200: 89.648033126294%\n",
            "cost after iteration 2300: 1.5225386821915832\n",
            "Train accuracy after iteration 2300: 90.06211180124224%\n",
            "cost after iteration 2400: 1.5255188002855347\n",
            "Train accuracy after iteration 2400: 90.06211180124224%\n",
            "cost after iteration 2500: 5.3395199161146865\n",
            "Train accuracy after iteration 2500: 42.2360248447205%\n",
            "cost after iteration 2600: 1.6008186727559575\n",
            "Train accuracy after iteration 2600: 91.30434782608695%\n",
            "cost after iteration 2700: 1.7731844748682466\n",
            "Train accuracy after iteration 2700: 91.7184265010352%\n",
            "cost after iteration 2800: 1.6009512871263227\n",
            "Train accuracy after iteration 2800: 91.51138716356108%\n",
            "cost after iteration 2900: 1.5243630005375408\n",
            "Train accuracy after iteration 2900: 91.7184265010352%\n",
            "cost after iteration 3000: 1.7748049662522007\n",
            "Train accuracy after iteration 3000: 91.51138716356108%\n",
            "cost after iteration 3100: 2.7933590038269545\n",
            "Train accuracy after iteration 3100: 91.30434782608695%\n",
            "cost after iteration 3200: 1.741792171098507\n",
            "Train accuracy after iteration 3200: 91.7184265010352%\n",
            "cost after iteration 3300: 1.717503249442047\n",
            "Train accuracy after iteration 3300: 91.7184265010352%\n",
            "cost after iteration 3400: 1.5871005799757179\n",
            "Train accuracy after iteration 3400: 91.7184265010352%\n",
            "cost after iteration 3500: 2.3636790912353547\n",
            "Train accuracy after iteration 3500: 90.06211180124224%\n",
            "cost after iteration 3600: 1.6615263173732542\n",
            "Train accuracy after iteration 3600: 91.30434782608695%\n",
            "cost after iteration 3700: 1.6589995990916164\n",
            "Train accuracy after iteration 3700: 91.51138716356108%\n",
            "cost after iteration 3800: 1.6198122345313177\n",
            "Train accuracy after iteration 3800: 91.7184265010352%\n",
            "cost after iteration 3900: 2.1143182331688894\n",
            "Train accuracy after iteration 3900: 91.30434782608695%\n",
            "cost after iteration 4000: 2.16163029217525\n",
            "Train accuracy after iteration 4000: 90.89026915113871%\n",
            "cost after iteration 4100: 6.2438715381963386\n",
            "Train accuracy after iteration 4100: 79.71014492753623%\n",
            "cost after iteration 4200: 1.72254877059866\n",
            "Train accuracy after iteration 4200: 91.7184265010352%\n",
            "cost after iteration 4300: 1.5905191993758205\n",
            "Train accuracy after iteration 4300: 91.51138716356108%\n",
            "cost after iteration 4400: 1.5221924900073645\n",
            "Train accuracy after iteration 4400: 87.99171842650104%\n",
            "cost after iteration 4500: 1.6261793915524965\n",
            "Train accuracy after iteration 4500: 88.19875776397515%\n",
            "cost after iteration 4600: 1.716212482603854\n",
            "Train accuracy after iteration 4600: 87.78467908902691%\n",
            "cost after iteration 4700: 1.5984500647075264\n",
            "Train accuracy after iteration 4700: 90.89026915113871%\n",
            "cost after iteration 4800: 1.5374169384181493\n",
            "Train accuracy after iteration 4800: 90.47619047619048%\n",
            "cost after iteration 4900: 1.5367202440896863\n",
            "Train accuracy after iteration 4900: 91.09730848861284%\n",
            "cost after iteration 5000: 1.601800700652103\n",
            "Train accuracy after iteration 5000: 87.99171842650104%\n",
            "cost after iteration 5100: 1.6399363795967927\n",
            "Train accuracy after iteration 5100: 88.19875776397515%\n",
            "cost after iteration 5200: 1.9074009094514155\n",
            "Train accuracy after iteration 5200: 86.5424430641822%\n",
            "cost after iteration 5300: 1.5998320116984268\n",
            "Train accuracy after iteration 5300: 91.30434782608695%\n",
            "cost after iteration 5400: 1.5277516586822877\n",
            "Train accuracy after iteration 5400: 90.6832298136646%\n",
            "cost after iteration 5500: 1.492265334517335\n",
            "Train accuracy after iteration 5500: 90.6832298136646%\n",
            "cost after iteration 5600: 1.6634914003553505\n",
            "Train accuracy after iteration 5600: 87.37060041407868%\n",
            "cost after iteration 5700: 1.9723483924357013\n",
            "Train accuracy after iteration 5700: 84.05797101449275%\n",
            "cost after iteration 5800: 1.4804373040620646\n",
            "Train accuracy after iteration 5800: 91.7184265010352%\n",
            "cost after iteration 5900: 1.491096978646906\n",
            "Train accuracy after iteration 5900: 90.6832298136646%\n",
            "cost after iteration 6000: 1.4041219504005582\n",
            "Train accuracy after iteration 6000: 89.23395445134575%\n",
            "cost after iteration 6100: 1.6399364285701548\n",
            "Train accuracy after iteration 6100: 88.40579710144928%\n",
            "cost after iteration 6200: 2.402697479645818\n",
            "Train accuracy after iteration 6200: 84.88612836438924%\n",
            "cost after iteration 6300: 1.540605228408878\n",
            "Train accuracy after iteration 6300: 90.47619047619048%\n",
            "cost after iteration 6400: 1.4921187669973053\n",
            "Train accuracy after iteration 6400: 90.6832298136646%\n",
            "cost after iteration 6500: 1.4873841503238479\n",
            "Train accuracy after iteration 6500: 88.6128364389234%\n",
            "cost after iteration 6600: 1.7543505352717967\n",
            "Train accuracy after iteration 6600: 87.37060041407868%\n",
            "cost after iteration 6700: 1.8586122712942663\n",
            "Train accuracy after iteration 6700: 86.74948240165631%\n",
            "cost after iteration 6800: 1.8454299336555033\n",
            "Train accuracy after iteration 6800: 86.74948240165631%\n",
            "cost after iteration 6900: 1.858586516453253\n",
            "Train accuracy after iteration 6900: 86.74948240165631%\n",
            "cost after iteration 7000: 2.359075463557848\n",
            "Train accuracy after iteration 7000: 78.67494824016563%\n",
            "cost after iteration 7100: 1.5255348505977693\n",
            "Train accuracy after iteration 7100: 90.6832298136646%\n",
            "cost after iteration 7200: 1.4356303791541467\n",
            "Train accuracy after iteration 7200: 90.6832298136646%\n",
            "cost after iteration 7300: 1.4873763701942502\n",
            "Train accuracy after iteration 7300: 88.6128364389234%\n",
            "cost after iteration 7400: 1.6017960447647048\n",
            "Train accuracy after iteration 7400: 87.99171842650104%\n",
            "cost after iteration 7500: 1.867207898092085\n",
            "Train accuracy after iteration 7500: 86.5424430641822%\n",
            "cost after iteration 7600: 5.301189584110479\n",
            "Train accuracy after iteration 7600: 44.72049689440993%\n",
            "cost after iteration 7700: 1.4959092019197595\n",
            "Train accuracy after iteration 7700: 90.6832298136646%\n",
            "cost after iteration 7800: 1.3067616262571913\n",
            "Train accuracy after iteration 7800: 90.26915113871635%\n",
            "cost after iteration 7900: 1.2995488282144017\n",
            "Train accuracy after iteration 7900: 89.648033126294%\n",
            "cost after iteration 8000: 1.6017983161961578\n",
            "Train accuracy after iteration 8000: 87.99171842650104%\n",
            "cost after iteration 8100: 1.9183773532792332\n",
            "Train accuracy after iteration 8100: 85.09316770186335%\n",
            "cost after iteration 8200: 1.5552364232821143\n",
            "Train accuracy after iteration 8200: 91.30434782608695%\n",
            "cost after iteration 8300: 1.605929437481295\n",
            "Train accuracy after iteration 8300: 90.89026915113871%\n",
            "cost after iteration 8400: 1.373349809371213\n",
            "Train accuracy after iteration 8400: 88.81987577639751%\n",
            "cost after iteration 8500: 1.601814294150781\n",
            "Train accuracy after iteration 8500: 87.99171842650104%\n",
            "cost after iteration 8600: 1.8027095977861038\n",
            "Train accuracy after iteration 8600: 87.16356107660455%\n",
            "cost after iteration 8700: 1.8062623444653176\n",
            "Train accuracy after iteration 8700: 86.95652173913044%\n",
            "cost after iteration 8800: 1.79248870900213\n",
            "Train accuracy after iteration 8800: 87.37060041407868%\n",
            "cost after iteration 8900: 1.7925035710277712\n",
            "Train accuracy after iteration 8900: 87.37060041407868%\n",
            "cost after iteration 9000: 1.3875317161761846\n",
            "Train accuracy after iteration 9000: 90.47619047619048%\n",
            "cost after iteration 9100: 1.3833147613230499\n",
            "Train accuracy after iteration 9100: 89.85507246376811%\n",
            "cost after iteration 9200: 1.451309092420816\n",
            "Train accuracy after iteration 9200: 88.81987577639751%\n",
            "cost after iteration 9300: 1.372969984086869\n",
            "Train accuracy after iteration 9300: 88.81987577639751%\n",
            "cost after iteration 9400: 1.7922865125734526\n",
            "Train accuracy after iteration 9400: 87.37060041407868%\n",
            "cost after iteration 9500: 1.7924560828597833\n",
            "Train accuracy after iteration 9500: 87.37060041407868%\n",
            "cost after iteration 9600: 1.7924580683895668\n",
            "Train accuracy after iteration 9600: 87.37060041407868%\n",
            "cost after iteration 9700: 1.768062072045275\n",
            "Train accuracy after iteration 9700: 87.37060041407868%\n",
            "cost after iteration 9800: 1.5256182412073511\n",
            "Train accuracy after iteration 9800: 91.7184265010352%\n",
            "cost after iteration 9900: 1.585289731901324\n",
            "Train accuracy after iteration 9900: 91.7184265010352%\n",
            "Train accuracy: 89.85507246376811%\n",
            "Test accuracy: 95.34883720930233%\n"
          ]
        }
      ]
    },
    {
      "cell_type": "code",
      "metadata": {
        "colab": {
          "base_uri": "https://localhost:8080/",
          "height": 472
        },
        "id": "ae996ad0",
        "outputId": "fc377c28-a595-44b6-aada-a56810ce97af"
      },
      "source": [
        "plt.plot(range(0, 10000, 100), train_accuracies)\n",
        "plt.xlabel(\"Number of Iterations\")\n",
        "plt.ylabel(\"Train Accuracy (%)\")\n",
        "plt.title(\"Train Accuracy vs Number of Iterations\")\n",
        "plt.show()"
      ],
      "execution_count": null,
      "outputs": [
        {
          "output_type": "display_data",
          "data": {
            "text/plain": [
              "<Figure size 640x480 with 1 Axes>"
            ],
            "image/png": "[encoded data removed]"
          },
          "metadata": {}
        }
      ]
    }
  ]
}